{
 "cells": [
  {
   "cell_type": "code",
   "execution_count": 55,
   "metadata": {},
   "outputs": [],
   "source": [
    "import pandas as pd"
   ]
  },
  {
   "cell_type": "code",
   "execution_count": 56,
   "metadata": {},
   "outputs": [],
   "source": [
    "class Normalizacao:    \n",
    "    \n",
    "    #recebe uma Serie e calcula o desvio padrao absoluto\n",
    "    def desvio_padrao_absoluto(serie):\n",
    "        mediana = serie.median()\n",
    "        desvio_padrao = 0.0\n",
    "        somatorio = 0.0\n",
    "        for avaliacao in serie:\n",
    "            somatorio += abs(avaliacao-mediana)\n",
    "        desvio_padrao = somatorio / len(serie)\n",
    "        return desvio_padrao\n",
    "\n",
    "    #recebe um dicionario e calcula a pontuacao padrao para todas as avaliacoes de todas as chaves do dicionario\n",
    "    def standard_score_modificado(avaliacoes):\n",
    "        temas = avaliacoes.keys()\n",
    "        avaliacoes_tema = []\n",
    "        for tema in temas:\n",
    "            avaliacoes_tema = avaliacoes[tema]\n",
    "            mediana = pd.Series(avaliacoes_tema).median()\n",
    "            desvio_padrao = desvio_padrao_absoluto(pd.Series(avaliacoes_tema))\n",
    "            pontuacao_padrao_modificada = 0.0\n",
    "            avaliacoes_modificadas = []\n",
    "            for nota in avaliacoes_tema:\n",
    "                pontuacao_padrao_modificada += (nota-mediana)/desvio_padrao\n",
    "                avaliacoes_modificadas.append(pontuacao_padrao_modificada)\n",
    "                pontuacao_padrao_modificada = 0.0\n",
    "            avaliacoes[tema] = avaliacoes_modificadas\n",
    "        return avaliacoes"
   ]
  },
  {
   "cell_type": "code",
   "execution_count": 57,
   "metadata": {},
   "outputs": [],
   "source": [
    "dicionario = {\"salario\": [43.000, 45.000, 55.000, 69.000, 70.000, 75.000, 105.000, 115.000]}"
   ]
  },
  {
   "cell_type": "code",
   "execution_count": 58,
   "metadata": {},
   "outputs": [
    {
     "data": {
      "text/plain": [
       "{'salario': [-1.3856209150326797,\n",
       "  -1.2810457516339868,\n",
       "  -0.7581699346405228,\n",
       "  -0.026143790849673203,\n",
       "  0.026143790849673203,\n",
       "  0.2875816993464052,\n",
       "  1.8562091503267975,\n",
       "  2.3790849673202614]}"
      ]
     },
     "execution_count": 58,
     "metadata": {},
     "output_type": "execute_result"
    }
   ],
   "source": [
    "Normalizacao.standard_score_modificado(dicionario)"
   ]
  },
  {
   "cell_type": "code",
   "execution_count": null,
   "metadata": {},
   "outputs": [],
   "source": []
  }
 ],
 "metadata": {
  "kernelspec": {
   "display_name": "Python 3",
   "language": "python",
   "name": "python3"
  },
  "language_info": {
   "codemirror_mode": {
    "name": "ipython",
    "version": 3
   },
   "file_extension": ".py",
   "mimetype": "text/x-python",
   "name": "python",
   "nbconvert_exporter": "python",
   "pygments_lexer": "ipython3",
   "version": "3.6.4"
  }
 },
 "nbformat": 4,
 "nbformat_minor": 2
}
