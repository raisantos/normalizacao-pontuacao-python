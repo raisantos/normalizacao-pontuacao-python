{
 "cells": [
  {
   "cell_type": "code",
   "execution_count": 207,
   "metadata": {
    "collapsed": true
   },
   "outputs": [],
   "source": [
    "import pandas as pd\n",
    "import math\n",
    "import pandas as pd\n",
    "%matplotlib inline\n",
    "import matplotlib.pyplot as plt"
   ]
  },
  {
   "cell_type": "code",
   "execution_count": 208,
   "metadata": {
    "collapsed": true
   },
   "outputs": [],
   "source": [
    "def pearson(rating1, rating2):\n",
    "    sum_xy = 0\n",
    "    sum_x = 0\n",
    "    sum_y = 0\n",
    "    sum_x2 = 0\n",
    "    sum_y2 =0\n",
    "    n = 0\n",
    "    for value in range(len(rating1)):\n",
    "        #if value in rating2:\n",
    "        n+=1\n",
    "        #x = rating1[key]\n",
    "        x = rating1[value]\n",
    "        #y = rating2[key]\n",
    "        y = rating2[value]\n",
    "        sum_xy += x * y\n",
    "        sum_x += x\n",
    "        sum_y += y\n",
    "        sum_x2 += x**2\n",
    "        sum_y2 += y**2\n",
    "    if n == 0:\n",
    "        return 0    \n",
    "    denominator = math.sqrt(sum_x2 - (sum_x**2)/n) * math.sqrt(sum_y2 - (sum_y**2)/n)\n",
    "    if denominator == 0:\n",
    "        return 0\n",
    "    else:\n",
    "        return (sum_xy - (sum_x * sum_y)/n) / denominator"
   ]
  },
  {
   "cell_type": "code",
   "execution_count": 209,
   "metadata": {
    "collapsed": true
   },
   "outputs": [],
   "source": [
    "#recebe uma Serie e calcula o desvio padrao absoluto\n",
    "def absolute_standard_deviation(serie):\n",
    "    median = serie.median()\n",
    "    standard_deviation = 0.0\n",
    "    summ = 0.0\n",
    "    for avaliation in serie:\n",
    "        summ += abs(avaliation-median)\n",
    "    standard_deviation = summ / len(serie)\n",
    "    return standard_deviation\n",
    "\n",
    "#recebe um dicionario e calcula a pontuacao padrao para todas as avaliacoes de todas as chaves do dicionario\n",
    "def modified_standard_score(avaliations):\n",
    "    themes = avaliations.keys()\n",
    "    theme_avaliations = []\n",
    "    for theme in themes:\n",
    "        theme_avaliations = avaliations[theme]\n",
    "        median = pd.Series(theme_avaliations).median()\n",
    "        standard_deviation = absolute_standard_deviation(pd.Series(theme_avaliations))\n",
    "        modified_standard_score = 0.0\n",
    "        modified_avaliations = []\n",
    "        for avaliation in theme_avaliations:\n",
    "            modified_standard_score += (avaliation-median)/standard_deviation\n",
    "            modified_avaliations.append(modified_standard_score)\n",
    "            modified_standard_score = 0.0\n",
    "        avaliations[theme] = modified_avaliations\n",
    "    return avaliations"
   ]
  },
  {
   "cell_type": "code",
   "execution_count": 210,
   "metadata": {
    "collapsed": true
   },
   "outputs": [],
   "source": [
    "# contagem de palavras\n",
    "candidates = {\n",
    "    \"aldo\":[10,9,4,28,9,13,3,4],\n",
    "    \"dias\":[18,43,2,87,11,14,16,12],\n",
    "    \"ciro\":[6,14,3,52,8,12,3,11],\n",
    "    \"buarque\":[0,1,0,0,0,0,0,3],\n",
    "    \"eymael\":[0,4,0,4,0,1,2,1],\n",
    "    \"flavio\":[4,24,2,22,2,1,6,8],\n",
    "    \"alckmin\":[2,14,0,5,3,2,3,2],\n",
    "    \"boulos\":[2,8,3,13,2,1,2,6],\n",
    "    \"meirelles\":[1,10,2,4,2,2,0,1],\n",
    "    \"bolsonaro\":[4,6,2,7,4,3,3,4],\n",
    "    \"amoedo\":[20,59,6,52,13,1,21,25],\n",
    "    \"marina\":[7,22,1,17,9,10,13,2],\n",
    "    \"manuella\":[7,11,5,29,9,3,9,13],\n",
    "    \"levy\":[3,7,1,18,1,4,6,3],\n",
    "    \"rabello\":[0,15,1,12,0,2,1,7],\n",
    "    \"maia\":[1,3,0,13,2,0,3,3],\n",
    "    \"vera\":[1,5,0,6,2,2,2,1]\n",
    "}"
   ]
  },
  {
   "cell_type": "code",
   "execution_count": 211,
   "metadata": {},
   "outputs": [
    {
     "name": "stdout",
     "output_type": "stream",
     "text": [
      "{'aldo': [0.20000000000000001, 0.0, -1.0, 3.7999999999999998, 0.0, 0.80000000000000004, -1.2, -1.0], 'dias': [0.192, 1.792, -0.83199999999999996, 4.6079999999999997, -0.25600000000000001, -0.064000000000000001, 0.064000000000000001, -0.192], 'ciro': [-0.40579710144927539, 0.52173913043478259, -0.75362318840579712, 4.9275362318840576, -0.17391304347826086, 0.28985507246376813, -0.75362318840579712, 0.17391304347826086], 'buarque': [0.0, 2.0, 0.0, 0.0, 0.0, 0.0, 0.0, 6.0], 'eymael': [-0.80000000000000004, 2.3999999999999999, -0.80000000000000004, 2.3999999999999999, -0.80000000000000004, 0.0, 0.80000000000000004, 0.0], 'flavio': [-0.15686274509803921, 2.9803921568627452, -0.47058823529411764, 2.6666666666666665, -0.47058823529411764, -0.62745098039215685, 0.15686274509803921, 0.47058823529411764], 'alckmin': [-0.21052631578947367, 4.8421052631578947, -1.0526315789473684, 1.0526315789473684, 0.21052631578947367, -0.21052631578947367, 0.21052631578947367, -0.21052631578947367], 'boulos': [-0.17391304347826086, 1.9130434782608696, 0.17391304347826086, 3.652173913043478, -0.17391304347826086, -0.52173913043478259, -0.17391304347826086, 1.2173913043478262], 'meirelles': [-0.5714285714285714, 4.5714285714285712, 0.0, 1.1428571428571428, 0.0, 0.0, -1.1428571428571428, -0.5714285714285714], 'bolsonaro': [0.0, 1.7777777777777777, -1.7777777777777777, 2.6666666666666665, 0.0, -0.88888888888888884, -0.88888888888888884, 0.0], 'amoedo': [-0.034188034188034191, 2.6324786324786325, -0.99145299145299148, 2.1538461538461537, -0.51282051282051277, -1.3333333333333333, 0.034188034188034191, 0.30769230769230771], 'marina': [-0.46511627906976744, 2.3255813953488373, -1.5813953488372092, 1.3953488372093024, -0.093023255813953487, 0.093023255813953487, 0.65116279069767447, -1.3953488372093024], 'manuella': [-0.42105263157894735, 0.42105263157894735, -0.84210526315789469, 4.2105263157894735, 0.0, -1.263157894736842, 0.0, 0.84210526315789469], 'levy': [-0.14814814814814814, 1.037037037037037, -0.7407407407407407, 4.2962962962962967, -0.7407407407407407, 0.14814814814814814, 0.7407407407407407, -0.14814814814814814], 'rabello': [-0.35294117647058826, 3.1764705882352939, -0.11764705882352941, 2.4705882352941178, -0.35294117647058826, 0.11764705882352941, -0.11764705882352941, 1.2941176470588236], 'maia': [-0.63157894736842102, 0.21052631578947367, -1.0526315789473684, 4.4210526315789478, -0.21052631578947367, -1.0526315789473684, 0.21052631578947367, 0.21052631578947367], 'vera': [-0.72727272727272729, 2.1818181818181817, -1.4545454545454546, 2.9090909090909092, 0.0, 0.0, 0.0, -0.72727272727272729]}\n"
     ]
    }
   ],
   "source": [
    "modified_candidates = modified_standard_score(candidates)\n",
    "print(modified_candidates)"
   ]
  },
  {
   "cell_type": "code",
   "execution_count": 212,
   "metadata": {
    "collapsed": true
   },
   "outputs": [],
   "source": [
    "users = {\n",
    "    \"user1\": [3,2,5,1,2,3,4,2],\n",
    "    \"user2\": [5,1,2,3,4,1,4,5],\n",
    "    \"user3\": [2,4,5,1,3,2,4,1],\n",
    "    \"user4\": [4,2,2,3,2,5,4,2]\n",
    "}"
   ]
  },
  {
   "cell_type": "code",
   "execution_count": 213,
   "metadata": {},
   "outputs": [
    {
     "name": "stdout",
     "output_type": "stream",
     "text": [
      "{'user1': [0.5, -0.5, 2.5, -1.5, -0.5, 0.5, 1.5, -0.5], 'user2': [1.0909090909090908, -1.8181818181818181, -1.0909090909090908, -0.36363636363636365, 0.36363636363636365, -1.8181818181818181, 0.36363636363636365, 1.0909090909090908], 'user3': [-0.40000000000000002, 1.2, 2.0, -1.2, 0.40000000000000002, -0.40000000000000002, 1.2, -1.2], 'user4': [1.5, -0.5, -0.5, 0.5, -0.5, 2.5, 1.5, -0.5]}\n"
     ]
    }
   ],
   "source": [
    "modified_users = modified_standard_score(users)\n",
    "print(modified_users)"
   ]
  },
  {
   "cell_type": "code",
   "execution_count": 214,
   "metadata": {},
   "outputs": [
    {
     "name": "stdout",
     "output_type": "stream",
     "text": [
      "[0.5, -0.5, 2.5, -1.5, -0.5, 0.5, 1.5, -0.5]\n",
      "[-0.14814814814814814, 1.037037037037037, -0.7407407407407407, 4.2962962962962967, -0.7407407407407407, 0.14814814814814814, 0.7407407407407407, -0.14814814814814814]\n",
      "-0.569625628411\n"
     ]
    }
   ],
   "source": [
    "print(users['user1'])\n",
    "print(candidates['levy'])\n",
    "print(pearson(users['user1'], candidates['levy']))"
   ]
  },
  {
   "cell_type": "code",
   "execution_count": 215,
   "metadata": {},
   "outputs": [
    {
     "name": "stdout",
     "output_type": "stream",
     "text": [
      "[0.5, -0.5, 2.5, -1.5, -0.5, 0.5, 1.5, -0.5]\n",
      "[-0.64903260758267634, -0.68478751527569959, -0.70067462200655062, -0.31277162108561213, -0.52750437871662947, -0.6161793379487186, -0.47041980902988206, -0.66659487908967652, -0.40677712066840793, -0.8654017806000992, -0.63870341748234316, -0.49560621817168909, -0.70083144667245034, -0.56962562841050957, -0.63306223121451854, -0.65840711847210409, -0.7148468390323296]\n"
     ]
    }
   ],
   "source": [
    "similaridades = []\n",
    "user1 = users['user1']\n",
    "print(user1)\n",
    "for key in modified_candidates:\n",
    "    candidato = modified_candidates[key]\n",
    "    similaridades.append(pearson(user1, candidato))\n",
    "print(similaridades)"
   ]
  },
  {
   "cell_type": "code",
   "execution_count": 216,
   "metadata": {
    "collapsed": true
   },
   "outputs": [],
   "source": [
    "y = similaridades"
   ]
  },
  {
   "cell_type": "code",
   "execution_count": 217,
   "metadata": {},
   "outputs": [
    {
     "name": "stdout",
     "output_type": "stream",
     "text": [
      "[-0.64903260758267634, -0.68478751527569959, -0.70067462200655062, -0.31277162108561213, -0.52750437871662947, -0.6161793379487186, -0.47041980902988206, -0.66659487908967652, -0.40677712066840793, -0.8654017806000992, -0.63870341748234316, -0.49560621817168909, -0.70083144667245034, -0.56962562841050957, -0.63306223121451854, -0.65840711847210409, -0.7148468390323296]\n"
     ]
    }
   ],
   "source": [
    "print(y)"
   ]
  },
  {
   "cell_type": "code",
   "execution_count": 218,
   "metadata": {},
   "outputs": [
    {
     "name": "stdout",
     "output_type": "stream",
     "text": [
      "range(0, 17)\n"
     ]
    }
   ],
   "source": [
    "x = range(len(y))\n",
    "print(x)"
   ]
  },
  {
   "cell_type": "code",
   "execution_count": 219,
   "metadata": {},
   "outputs": [
    {
     "data": {
      "text/plain": [
       "<Container object of 17 artists>"
      ]
     },
     "execution_count": 219,
     "metadata": {},
     "output_type": "execute_result"
    },
    {
     "data": {
      "image/png": "[encoded data removed]",
      "text/plain": [
       "<matplotlib.figure.Figure at 0x7fdc5f8f8f98>"
      ]
     },
     "metadata": {},
     "output_type": "display_data"
    }
   ],
   "source": [
    "plt.bar(x, y)"
   ]
  },
  {
   "cell_type": "code",
   "execution_count": 220,
   "metadata": {},
   "outputs": [
    {
     "name": "stdout",
     "output_type": "stream",
     "text": [
      "[0.5, -0.5, 2.5, -1.5, -0.5, 0.5, 1.5, -0.5]\n",
      "[-0.14814814814814814, 1.037037037037037, -0.7407407407407407, 4.2962962962962967, -0.7407407407407407, 0.14814814814814814, 0.7407407407407407, -0.14814814814814814]\n"
     ]
    }
   ],
   "source": [
    "a = modified_users['user1']\n",
    "b = modified_candidates['levy']\n",
    "print(a)\n",
    "print(b)"
   ]
  },
  {
   "cell_type": "code",
   "execution_count": 221,
   "metadata": {},
   "outputs": [
    {
     "data": {
      "text/plain": [
       "[<matplotlib.lines.Line2D at 0x7fdc5f606be0>]"
      ]
     },
     "execution_count": 221,
     "metadata": {},
     "output_type": "execute_result"
    },
    {
     "data": {
      "image/png": "[encoded data removed]",
      "text/plain": [
       "<matplotlib.figure.Figure at 0x7fdc5f8f2dd8>"
      ]
     },
     "metadata": {},
     "output_type": "display_data"
    }
   ],
   "source": [
    "plt.plot(b, a)"
   ]
  },
  {
   "cell_type": "code",
   "execution_count": 222,
   "metadata": {},
   "outputs": [
    {
     "data": {
      "text/plain": [
       "<matplotlib.collections.PathCollection at 0x7fdc5f595e10>"
      ]
     },
     "execution_count": 222,
     "metadata": {},
     "output_type": "execute_result"
    },
    {
     "data": {
      "image/png": "[encoded data removed]",
      "text/plain": [
       "<matplotlib.figure.Figure at 0x7fdc5f63c940>"
      ]
     },
     "metadata": {},
     "output_type": "display_data"
    }
   ],
   "source": [
    "plt.scatter(a, b)"
   ]
  },
  {
   "cell_type": "code",
   "execution_count": 223,
   "metadata": {
    "collapsed": true
   },
   "outputs": [],
   "source": [
    "def manhattan(rating1, rating2):\n",
    "    distance = 0\n",
    "    for key in range(len(rating1)):\n",
    "        #if key in rating2:\n",
    "        distance += abs(rating1[key] - rating2[key])\n",
    "    return distance"
   ]
  },
  {
   "cell_type": "code",
   "execution_count": 224,
   "metadata": {},
   "outputs": [
    {
     "data": {
      "text/plain": [
       "12.925925925925924"
      ]
     },
     "execution_count": 224,
     "metadata": {},
     "output_type": "execute_result"
    }
   ],
   "source": [
    "manhattan(users['user1'], candidates['levy'])"
   ]
  },
  {
   "cell_type": "code",
   "execution_count": 225,
   "metadata": {
    "scrolled": true
   },
   "outputs": [
    {
     "name": "stdout",
     "output_type": "stream",
     "text": [
      "[0.5, -0.5, 2.5, -1.5, -0.5, 0.5, 1.5, -0.5]\n",
      "[13.600000000000001, 14.591999999999999, 15.072463768115943, 16.0, 13.4, 14.745098039215685, 15.157894736842104, 15.304347826086955, 14.999999999999998, 16.0, 14.931623931623932, 13.325581395348838, 16.0, 12.925925925925924, 15.058823529411764, 15.157894736842104, 15.0]\n"
     ]
    }
   ],
   "source": [
    "similaridades = []\n",
    "user1 = users['user1']\n",
    "print(user1)\n",
    "for key in modified_candidates:\n",
    "    candidato = modified_candidates[key]\n",
    "    similaridades.append(manhattan(user1, candidato))\n",
    "print(similaridades)"
   ]
  },
  {
   "cell_type": "code",
   "execution_count": 226,
   "metadata": {
    "collapsed": true
   },
   "outputs": [],
   "source": [
    "def cossenoSimilarity(rating1, rating2):\n",
    "    numerador = 0 #x * y\n",
    "    x_comp = 0 # ||x||\n",
    "    y_comp = 0 # ||y||\n",
    "    for key in range(len(rating1)):\n",
    "        #if key in rating2:\n",
    "        numerador = numerador + (rating1[key]*rating2[key])\n",
    "        x_comp = x_comp + pow(rating1[key], 2)\n",
    "        y_comp = y_comp + pow(rating2[key], 2)\n",
    "    denominador = math.sqrt(x_comp) * math.sqrt(y_comp)\n",
    "    if denominador == 0:\n",
    "        return 0\n",
    "    else:\n",
    "        return numerador / denominador"
   ]
  },
  {
   "cell_type": "code",
   "execution_count": 227,
   "metadata": {},
   "outputs": [
    {
     "name": "stdout",
     "output_type": "stream",
     "text": [
      "[0.5, -0.5, 2.5, -1.5, -0.5, 0.5, 1.5, -0.5]\n",
      "[-0.60306330084625959, -0.54561674723334286, -0.60718757348677654, -0.18257418583505536, -0.43082021842766449, -0.47632813186776307, -0.37030932398980992, -0.4738064176090499, -0.33557802760701222, -0.8278327231656526, -0.56907376511126961, -0.46404272233076566, -0.62187594572933169, -0.45464014165293831, -0.43036428131775345, -0.60435478735152659, -0.64809480920651574]\n"
     ]
    }
   ],
   "source": [
    "similaridades = []\n",
    "user1 = users['user1']\n",
    "print(user1)\n",
    "for key in modified_candidates:\n",
    "    candidato = modified_candidates[key]\n",
    "    similaridades.append(cossenoSimilarity(user1, candidato))\n",
    "print(similaridades)"
   ]
  },
  {
   "cell_type": "code",
   "execution_count": null,
   "metadata": {
    "collapsed": true
   },
   "outputs": [],
   "source": [
    "themes = [[10, 18, 6, 0, 0, 4, 2, 2, 1, 4, 20, 7, 7, 3, 0, 1, 1], \n",
    "          [9, 43, 14, 1, 4, 24, 14, 8, 10, 6, 59, 22, 11, 7, 15, 3, 5], \n",
    "          [4, 2, 3, 0, 0, 2, 0, 3, 2, 2, 6, 1, 5, 1, 1, 0, 0], \n",
    "          [28, 87, 52, 0, 4, 22, 5, 13, 4, 7, 52, 17, 29, 18, 12, 13, 6], \n",
    "          [9, 11, 8, 0, 0, 2, 3, 2, 2, 4, 13, 9, 9, 1, 0, 2, 2], \n",
    "          [13, 14, 12, 0, 1, 1, 2, 1, 2, 3, 1, 10, 3, 4, 2, 0, 2], \n",
    "          [3, 16, 3, 0, 2, 6, 3, 2, 0, 3, 21, 13, 9, 6, 1, 3, 2], \n",
    "          [4, 12, 11, 3, 1, 8, 2, 6, 1, 4, 25, 2, 13, 3, 7, 3, 1]]\n",
    "\n",
    "#recebe uma Serie e calcula o desvio padrao absoluto\n",
    "def absolute_standard_deviation(serie):\n",
    "    median = serie.median()\n",
    "    standard_deviation = 0.0\n",
    "    summ = 0.0\n",
    "    for avaliation in serie:\n",
    "        summ += abs(avaliation-median)\n",
    "    standard_deviation = summ / len(serie)\n",
    "    return standard_deviation\n",
    "\n",
    "#recebe um dicionario e calcula a pontuacao padrao para todas as avaliacoes de todas as chaves do dicionario\n",
    "def modified_standard_score(avaliations):\n",
    "    #themes = avaliations.keys()\n",
    "    theme_avaliations = []\n",
    "    for theme in themes:\n",
    "        theme_avaliations = avaliations[theme]\n",
    "        median = pd.Series(theme_avaliations).median()\n",
    "        standard_deviation = absolute_standard_deviation(pd.Series(theme_avaliations))\n",
    "        modified_standard_score = 0.0\n",
    "        modified_avaliations = []\n",
    "        for avaliation in theme_avaliations:\n",
    "            modified_standard_score += (avaliation-median)/standard_deviation\n",
    "            modified_avaliations.append(modified_standard_score)\n",
    "            modified_standard_score = 0.0\n",
    "        avaliations[theme] = modified_avaliations\n",
    "    return avaliations"
   ]
  }
 ],
 "metadata": {
  "kernelspec": {
   "display_name": "Python 3",
   "language": "python",
   "name": "python3"
  },
  "language_info": {
   "codemirror_mode": {
    "name": "ipython",
    "version": 3
   },
   "file_extension": ".py",
   "mimetype": "text/x-python",
   "name": "python",
   "nbconvert_exporter": "python",
   "pygments_lexer": "ipython3",
   "version": "3.6.1"
  }
 },
 "nbformat": 4,
 "nbformat_minor": 2
}
